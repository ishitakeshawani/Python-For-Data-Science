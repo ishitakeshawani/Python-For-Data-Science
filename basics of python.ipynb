{
 "cells": [
  {
   "cell_type": "code",
   "execution_count": 1,
   "metadata": {},
   "outputs": [
    {
     "name": "stdout",
     "output_type": "stream",
     "text": [
      "Peso is a great dog!\n",
      "Peso is sitting.\n"
     ]
    }
   ],
   "source": [
    "class Dog():    \n",
    " \n",
    "    def __init__(self, name):\n",
    "        self.name = name \n",
    " \n",
    "    def sit(self):\n",
    "        print(self.name + \" is sitting.\") \n",
    " \n",
    "my_dog = Dog('Peso') \n",
    " \n",
    "print(my_dog.name + \" is a great dog!\")\n",
    "my_dog.sit() "
   ]
  },
  {
   "cell_type": "code",
   "execution_count": 3,
   "metadata": {},
   "outputs": [
    {
     "name": "stdout",
     "output_type": "stream",
     "text": [
      "Willie is a search dog.\n",
      "Willie is sitting.\n",
      "Willie is searching.\n"
     ]
    }
   ],
   "source": [
    "class SARDog(Dog):     \n",
    "    def __init__(self, name):\n",
    "        super().__init__(name) \n",
    " \n",
    "    def search(self):\n",
    "        print(self.name + \" is searching.\") \n",
    " \n",
    "my_dog = SARDog('Willie') \n",
    " \n",
    "print(my_dog.name + \" is a search dog.\")\n",
    "my_dog.sit()\n",
    "my_dog.search() \n",
    " "
   ]
  },
  {
   "cell_type": "code",
   "execution_count": 4,
   "metadata": {},
   "outputs": [
    {
     "name": "stdout",
     "output_type": "stream",
     "text": [
      "abc\n",
      "\n",
      "gvhbjnmk\n",
      "\n",
      "dhbndxkm\n",
      "\n",
      "ajaanddjann\n"
     ]
    }
   ],
   "source": [
    "filename = 'my.txt' \n",
    "with open(filename) as file_object:\n",
    "    lines = file_object.readlines() \n",
    " \n",
    "for line in lines:\n",
    "    print(line)"
   ]
  },
  {
   "cell_type": "code",
   "execution_count": 5,
   "metadata": {},
   "outputs": [],
   "source": [
    "with open(filename, 'w') as file_object:\n",
    "    file_object.write(\"I love programming.\") "
   ]
  },
  {
   "cell_type": "code",
   "execution_count": 6,
   "metadata": {},
   "outputs": [
    {
     "name": "stdout",
     "output_type": "stream",
     "text": [
      "abc\n",
      "\n",
      "gvhbjnmk\n",
      "\n",
      "dhbndxkm\n",
      "\n",
      "ajaanddjann\n"
     ]
    }
   ],
   "source": [
    "for line in lines:\n",
    "    print(line)"
   ]
  },
  {
   "cell_type": "code",
   "execution_count": 8,
   "metadata": {},
   "outputs": [
    {
     "name": "stdout",
     "output_type": "stream",
     "text": [
      "I love programming.\n"
     ]
    }
   ],
   "source": [
    "filename = 'my.txt' \n",
    "with open(filename, 'w') as file_object:\n",
    "    file_object.write(\"I love programming.\")\n",
    "with open(filename) as file_object:\n",
    "    lines = file_object.readlines() \n",
    "for line in lines:\n",
    "    print(line)"
   ]
  },
  {
   "cell_type": "code",
   "execution_count": 9,
   "metadata": {},
   "outputs": [
    {
     "name": "stdout",
     "output_type": "stream",
     "text": [
      "I love programming.\n",
      "\n",
      "I love making games.\n"
     ]
    }
   ],
   "source": [
    "filename = 'my.txt'\n",
    "with open(filename, 'a') as file_object:\n",
    "    file_object.write(\"\\nI love making games.\")\n",
    "with open(filename) as file_object:\n",
    "    lines = file_object.readlines() \n",
    "for line in lines:\n",
    "    print(line)"
   ]
  },
  {
   "cell_type": "code",
   "execution_count": 17,
   "metadata": {},
   "outputs": [
    {
     "name": "stdout",
     "output_type": "stream",
     "text": [
      "How many tickets do you need? hbh\n",
      "Please try again.\n"
     ]
    }
   ],
   "source": [
    "prompt = \"How many tickets do you need? \"\n",
    "num_tickets = input(prompt) \n",
    " \n",
    "try:\n",
    "    num_tickets = int(num_tickets)\n",
    "except ValueError:\n",
    "        print(\"Please try again.\")\n",
    "else:\n",
    "        print(\"Your tickets are printing.\") \n",
    " "
   ]
  },
  {
   "cell_type": "code",
   "execution_count": 18,
   "metadata": {},
   "outputs": [
    {
     "name": "stdout",
     "output_type": "stream",
     "text": [
      "val\n",
      "ned\n"
     ]
    }
   ],
   "source": [
    "users = ['val', 'bob', 'mia', 'ron', 'ned']\n",
    "first_user = users[0] \n",
    "newest_user = users[-1] \n",
    "print(first_user)\n",
    "print(newest_user)"
   ]
  },
  {
   "cell_type": "code",
   "execution_count": 20,
   "metadata": {},
   "outputs": [
    {
     "name": "stdout",
     "output_type": "stream",
     "text": [
      "['val', 'bob', 'mia', 'bea', 'bea', 'ron', 'ned']\n"
     ]
    }
   ],
   "source": [
    "users.insert(3, 'bea') \n",
    "print(users)"
   ]
  },
  {
   "cell_type": "code",
   "execution_count": 21,
   "metadata": {},
   "outputs": [
    {
     "name": "stdout",
     "output_type": "stream",
     "text": [
      "['val', 'bob', 'mia', 'bea', 'bea', 'ron']\n"
     ]
    }
   ],
   "source": [
    "del users[-1] \n",
    "print(users)"
   ]
  },
  {
   "cell_type": "code",
   "execution_count": 22,
   "metadata": {},
   "outputs": [
    {
     "name": "stdout",
     "output_type": "stream",
     "text": [
      "val\n"
     ]
    }
   ],
   "source": [
    "first_user = users.pop(0)\n",
    "print(first_user) "
   ]
  },
  {
   "cell_type": "code",
   "execution_count": 23,
   "metadata": {},
   "outputs": [
    {
     "name": "stdout",
     "output_type": "stream",
     "text": [
      "5\n"
     ]
    }
   ],
   "source": [
    "print(len(users))"
   ]
  },
  {
   "cell_type": "code",
   "execution_count": 24,
   "metadata": {},
   "outputs": [
    {
     "name": "stdout",
     "output_type": "stream",
     "text": [
      "None\n"
     ]
    }
   ],
   "source": [
    "print(users.reverse())"
   ]
  },
  {
   "cell_type": "code",
   "execution_count": 25,
   "metadata": {},
   "outputs": [
    {
     "name": "stdout",
     "output_type": "stream",
     "text": [
      "None\n"
     ]
    }
   ],
   "source": [
    "print(users.sort())"
   ]
  },
  {
   "cell_type": "code",
   "execution_count": 27,
   "metadata": {},
   "outputs": [
    {
     "name": "stdout",
     "output_type": "stream",
     "text": [
      "None\n"
     ]
    }
   ],
   "source": [
    "u = users.sort()\n",
    "print(u)"
   ]
  },
  {
   "cell_type": "code",
   "execution_count": 28,
   "metadata": {},
   "outputs": [
    {
     "name": "stdout",
     "output_type": "stream",
     "text": [
      "['bea', 'bea', 'bob', 'mia', 'ron']\n"
     ]
    }
   ],
   "source": [
    "users.sort()\n",
    "print(users)"
   ]
  },
  {
   "cell_type": "code",
   "execution_count": 29,
   "metadata": {},
   "outputs": [
    {
     "name": "stdout",
     "output_type": "stream",
     "text": [
      "['ron', 'mia', 'bob', 'bea', 'bea']\n"
     ]
    }
   ],
   "source": [
    "users.reverse()\n",
    "print(users)"
   ]
  },
  {
   "cell_type": "code",
   "execution_count": 30,
   "metadata": {},
   "outputs": [
    {
     "name": "stdout",
     "output_type": "stream",
     "text": [
      "0\n",
      "1\n",
      "2\n",
      "3\n",
      "4\n",
      "5\n",
      "6\n",
      "7\n",
      "8\n",
      "9\n",
      "10\n"
     ]
    }
   ],
   "source": [
    "for x in range(11):\n",
    "    print(x)"
   ]
  },
  {
   "cell_type": "code",
   "execution_count": 31,
   "metadata": {},
   "outputs": [
    {
     "name": "stdout",
     "output_type": "stream",
     "text": [
      "[0, 1, 2, 3, 4, 5, 6, 7, 8, 9]\n"
     ]
    }
   ],
   "source": [
    "n = list(range(0,10))\n",
    "print(n)"
   ]
  },
  {
   "cell_type": "code",
   "execution_count": 32,
   "metadata": {},
   "outputs": [
    {
     "name": "stdout",
     "output_type": "stream",
     "text": [
      "-5\n"
     ]
    }
   ],
   "source": [
    "y = [1,2,3,-5]\n",
    "z = min(y)\n",
    "print(z)"
   ]
  },
  {
   "cell_type": "code",
   "execution_count": 33,
   "metadata": {},
   "outputs": [
    {
     "name": "stdout",
     "output_type": "stream",
     "text": [
      "3\n"
     ]
    }
   ],
   "source": [
    "print(max(y))"
   ]
  },
  {
   "cell_type": "code",
   "execution_count": 34,
   "metadata": {},
   "outputs": [
    {
     "name": "stdout",
     "output_type": "stream",
     "text": [
      "1\n"
     ]
    }
   ],
   "source": [
    "print(sum(y))"
   ]
  },
  {
   "cell_type": "code",
   "execution_count": 35,
   "metadata": {},
   "outputs": [
    {
     "name": "stdout",
     "output_type": "stream",
     "text": [
      "[2, 3, -5]\n"
     ]
    }
   ],
   "source": [
    "print(y[-3:])"
   ]
  },
  {
   "cell_type": "code",
   "execution_count": 38,
   "metadata": {},
   "outputs": [
    {
     "name": "stdout",
     "output_type": "stream",
     "text": [
      "['HIGH', 'LOW', 'CRY', 'LOVE']\n"
     ]
    }
   ],
   "source": [
    "lo = ['high','low','cry','love']\n",
    "hi = []\n",
    "for n in lo:\n",
    "    hi.append(n.upper())\n",
    "print(hi)"
   ]
  },
  {
   "cell_type": "code",
   "execution_count": 40,
   "metadata": {},
   "outputs": [
    {
     "name": "stdout",
     "output_type": "stream",
     "text": [
      "['HIGH', 'LOW', 'CRY', 'LOVE']\n"
     ]
    }
   ],
   "source": [
    "y = [n.upper() for n in lo ]\n",
    "print(y)"
   ]
  },
  {
   "cell_type": "code",
   "execution_count": 41,
   "metadata": {},
   "outputs": [
    {
     "name": "stdout",
     "output_type": "stream",
     "text": [
      "(1, 2)\n"
     ]
    }
   ],
   "source": [
    "d = (1,2)\n",
    "print(d)"
   ]
  },
  {
   "cell_type": "code",
   "execution_count": 44,
   "metadata": {},
   "outputs": [
    {
     "name": "stdout",
     "output_type": "stream",
     "text": [
      "(12, 2)\n"
     ]
    }
   ],
   "source": [
    "d = (12,2)\n",
    "print(d)"
   ]
  },
  {
   "cell_type": "code",
   "execution_count": 45,
   "metadata": {},
   "outputs": [
    {
     "name": "stdout",
     "output_type": "stream",
     "text": [
      "Hello willie!\n",
      "I love these dogs!\n",
      "Hello hootz!\n",
      "I love these dogs!\n",
      "Hello peso!\n",
      "I love these dogs!\n",
      "Hello goblin!\n",
      "I love these dogs!\n",
      "\n",
      "These were my first two dogs:\n",
      "willie\n",
      "hootz\n",
      "['hootz', 'goblin']\n"
     ]
    }
   ],
   "source": [
    "dogs = []\n",
    "dogs.append('willie')\n",
    "dogs.append('hootz')\n",
    "dogs.append('peso')\n",
    "dogs.append('goblin') \n",
    " \n",
    "for dog in dogs:\n",
    "    print(\"Hello \" + dog + \"!\")\n",
    "    print(\"I love these dogs!\") \n",
    " \n",
    "print(\"\\nThese were my first two dogs:\")\n",
    "old_dogs = dogs[:2]\n",
    "for old_dog in old_dogs:\n",
    "    print(old_dog) \n",
    " \n",
    "del dogs[0]\n",
    "dogs.remove('peso')\n",
    "print(dogs) "
   ]
  },
  {
   "cell_type": "code",
   "execution_count": 46,
   "metadata": {},
   "outputs": [
    {
     "name": "stdout",
     "output_type": "stream",
     "text": [
      "{1: 2, 3: 4}\n"
     ]
    }
   ],
   "source": [
    "a = {1:2,3:4}\n",
    "print(a)"
   ]
  },
  {
   "cell_type": "code",
   "execution_count": 47,
   "metadata": {},
   "outputs": [
    {
     "data": {
      "text/plain": [
       "2"
      ]
     },
     "execution_count": 47,
     "metadata": {},
     "output_type": "execute_result"
    }
   ],
   "source": [
    "a.get(1)"
   ]
  },
  {
   "cell_type": "code",
   "execution_count": 48,
   "metadata": {},
   "outputs": [
    {
     "name": "stdout",
     "output_type": "stream",
     "text": [
      "{1: 2, 3: 4, 5: 8}\n"
     ]
    }
   ],
   "source": [
    "a[5] = 8\n",
    "print(a)"
   ]
  },
  {
   "cell_type": "code",
   "execution_count": 49,
   "metadata": {},
   "outputs": [
    {
     "name": "stdout",
     "output_type": "stream",
     "text": [
      "{'color': 'green', 'points': 5}\n",
      "{'color': 'green'}\n"
     ]
    }
   ],
   "source": [
    "alien_0 = {'color': 'green', 'points': 5}\n",
    "print(alien_0) \n",
    " \n",
    "del alien_0['points'] \n",
    "print(alien_0) "
   ]
  },
  {
   "cell_type": "code",
   "execution_count": 50,
   "metadata": {},
   "outputs": [
    {
     "name": "stdout",
     "output_type": "stream",
     "text": [
      "jen: python\n",
      "sarah: c\n",
      "edward: ruby\n",
      "phil: python\n"
     ]
    }
   ],
   "source": [
    "fav_languages = {     'jen': 'python',     'sarah': 'c',     'edward': 'ruby',     'phil': 'python',     } \n",
    "for name, language in fav_languages.items():\n",
    "    print(name + \": \" + language)"
   ]
  },
  {
   "cell_type": "code",
   "execution_count": 1,
   "metadata": {},
   "outputs": [
    {
     "name": "stdout",
     "output_type": "stream",
     "text": [
      "[{1: 2, 3: 4}]\n"
     ]
    }
   ],
   "source": [
    "u = []\n",
    "a = {1:2,3:4}\n",
    "u.append(a)\n",
    "print(u)"
   ]
  },
  {
   "cell_type": "code",
   "execution_count": 2,
   "metadata": {},
   "outputs": [
    {
     "name": "stdout",
     "output_type": "stream",
     "text": [
      "[{1: 2, 3: 4}, {6: 7}]\n"
     ]
    }
   ],
   "source": [
    "b = {6:7}\n",
    "u.append(b)\n",
    "print(u)"
   ]
  },
  {
   "cell_type": "code",
   "execution_count": 3,
   "metadata": {},
   "outputs": [
    {
     "name": "stdout",
     "output_type": "stream",
     "text": [
      "3\n",
      "7\n",
      "13\n"
     ]
    }
   ],
   "source": [
    "for o in u:\n",
    "    for i,j in o.items():\n",
    "        print(i+ j)"
   ]
  },
  {
   "cell_type": "code",
   "execution_count": null,
   "metadata": {},
   "outputs": [],
   "source": []
  }
 ],
 "metadata": {
  "kernelspec": {
   "display_name": "Python 3",
   "language": "python",
   "name": "python3"
  },
  "language_info": {
   "codemirror_mode": {
    "name": "ipython",
    "version": 3
   },
   "file_extension": ".py",
   "mimetype": "text/x-python",
   "name": "python",
   "nbconvert_exporter": "python",
   "pygments_lexer": "ipython3",
   "version": "3.8.3"
  }
 },
 "nbformat": 4,
 "nbformat_minor": 4
}
